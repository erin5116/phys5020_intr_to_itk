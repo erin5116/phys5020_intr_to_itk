{
  "nbformat": 4,
  "nbformat_minor": 0,
  "metadata": {
    "colab": {
      "name": "Untitled0.ipynb",
      "provenance": [],
      "collapsed_sections": [],
      "authorship_tag": "ABX9TyOMe9sGe1+4usIp5UGyVQqr",
      "include_colab_link": true
    },
    "kernelspec": {
      "name": "python3",
      "display_name": "Python 3"
    },
    "language_info": {
      "name": "python"
    }
  },
  "cells": [
    {
      "cell_type": "markdown",
      "metadata": {
        "id": "view-in-github",
        "colab_type": "text"
      },
      "source": [
        "<a href=\"https://colab.research.google.com/github/erin5116/phys5020_intr_to_itk/blob/main/phys5020_intro_to_itk.ipynb\" target=\"_parent\"><img src=\"https://colab.research.google.com/assets/colab-badge.svg\" alt=\"Open In Colab\"/></a>"
      ]
    },
    {
      "cell_type": "markdown",
      "source": [
        "<h1 align=\"center\">Introduction to (simple) ITK</h1>\n"
      ],
      "metadata": {
        "id": "tJUJ0jX32J5I"
      }
    },
    {
      "cell_type": "markdown",
      "source": [
        "## Setup: Importing the required libraries ##\n",
        "\n",
        "First step in a Python script is to import the libraries with the functions that you want to use.\n",
        "\n",
        "In this tutorial we will use the following libraries:\n",
        "\n",
        "\n",
        "1.   SimpleITK: image registration and segmentation library\n",
        "2.   Numpy: library with mathematical functions\n",
        "3. Matplotlib: library for creating visualisations in Python, we will use the Pyplot function in this tutorial to show the images\n",
        "\n",
        "Run the cell below to import the first two libraries and the plotting function\n"
      ],
      "metadata": {
        "id": "zYfZMv1V3il9"
      }
    },
    {
      "cell_type": "code",
      "source": [
        "import numpy as np\n",
        "from matplotlib import pyplot as plt\n",
        "import SimpleITK"
      ],
      "metadata": {
        "id": "dJ093kHv3Ndc"
      },
      "execution_count": null,
      "outputs": []
    },
    {
      "cell_type": "markdown",
      "source": [
        "Here you should encounter an error message.\n",
        "\n",
        "This is because numpy and matplotlib libraries are pre-installed in Google Collab (and probably most Python installations) but SimpleITK is not.\n",
        "\n",
        "As Google Collab does not have SimpleITK pre-installed, we need to do it ourselves as the first step in this tutorial"
      ],
      "metadata": {
        "id": "BlF40Gd349qh"
      }
    },
    {
      "cell_type": "code",
      "source": [
        "pip install SimpleITK\n"
      ],
      "metadata": {
        "id": "YWZoopRW2QOt"
      },
      "execution_count": null,
      "outputs": []
    },
    {
      "cell_type": "markdown",
      "source": [
        "Now, you should be able to import SimpleITK.\n",
        "\n",
        "Click into the next cell to type the code to import the library and giving it a short variable (sitk)"
      ],
      "metadata": {
        "id": "HoLhVmdI5ZTl"
      }
    },
    {
      "cell_type": "code",
      "source": [
        "# import the library and giving it a short variable (sitk)"
      ],
      "metadata": {
        "id": "zcU4uTPh5oVm"
      },
      "execution_count": null,
      "outputs": []
    },
    {
      "cell_type": "markdown",
      "source": [
        "## Read in test data ##\n",
        "\n"
      ],
      "metadata": {
        "id": "GauzuXQj5rVh"
      }
    }
  ]
}